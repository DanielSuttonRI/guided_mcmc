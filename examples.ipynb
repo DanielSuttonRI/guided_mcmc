{
 "cells": [
  {
   "cell_type": "code",
   "execution_count": null,
   "metadata": {},
   "outputs": [],
   "source": [
    "import sys\n",
    "import importlib\n",
    "\n",
    "if sys.modules.get(\"src.mcmc\"):\n",
    "    _ = importlib.reload(sys.modules[\"src.mcmc\"])\n",
    "\n",
    "import seaborn as sns\n",
    "from scipy.stats import norm, multivariate_normal\n",
    "from src.mcmc import GuidedMCMC"
   ]
  },
  {
   "cell_type": "code",
   "execution_count": null,
   "metadata": {},
   "outputs": [],
   "source": [
    "bimodal_gaussian_1D = lambda x: norm.pdf(x, -3, 1) + norm.pdf(x, 3, 1)\n",
    "highly_correlated_gaussian_2D = lambda x, y: multivariate_normal.pdf([x, y], [0, 0], [[1, 0.9], [0.9, 1]])\n",
    "bimodal_gaussian_2D = lambda x, y: multivariate_normal.pdf([x, y], [-3, -3], [[1, 0], [0, 1]]) + multivariate_normal.pdf([x, y], [3, 3], [[1, 0], [0, 1]])"
   ]
  },
  {
   "cell_type": "code",
   "execution_count": null,
   "metadata": {},
   "outputs": [],
   "source": [
    "mcmc = GuidedMCMC(bimodal_gaussian_1D)\n",
    "x = mcmc.metropolis_guided_walk(100)\n",
    "sns.kdeplot(x)"
   ]
  },
  {
   "cell_type": "code",
   "execution_count": null,
   "metadata": {},
   "outputs": [],
   "source": [
    "mcmc = GuidedMCMC(bimodal_gaussian_2D)\n",
    "x = mcmc.metropolis_within_gibbs_guided_walk(1000)\n",
    "sns.kdeplot(x[:, 0])\n",
    "sns.kdeplot(x[:, 1])"
   ]
  },
  {
   "cell_type": "code",
   "execution_count": null,
   "metadata": {},
   "outputs": [],
   "source": [
    "temp = [1, 1.1, 1.2, 1.3, 1.4]\n",
    "mcmc = GuidedMCMC(bimodal_gaussian_1D)\n",
    "\n",
    "x = mcmc.tempered_transitions_guided_walk(10000, temp)\n",
    "sns.kdeplot(x)"
   ]
  },
  {
   "cell_type": "code",
   "execution_count": null,
   "metadata": {},
   "outputs": [],
   "source": [
    "temp = [1, 1.1, 1.2, 1.3, 1.4]\n",
    "pi = [0.5, 0.22331096 , 0.12549773 , 0.07929218 , 0.05404275]\n",
    "\n",
    "mcmc = GuidedMCMC(bimodal_gaussian_1D)\n",
    "x = mcmc.simulated_tempering_guided_walk(100, temp, pi)\n",
    "sns.kdeplot(x)"
   ]
  },
  {
   "cell_type": "code",
   "execution_count": null,
   "metadata": {},
   "outputs": [],
   "source": [
    "pi = [0.5, 0.05404275]\n",
    "temp = [1, 1.1, 1.2, 1.3, 1.4]\n",
    "c_up = 0.1\n",
    "c_down = 0.3\n",
    "\n",
    "mcmc = GuidedMCMC(bimodal_gaussian_1D)\n",
    "x  = mcmc.shortcut_tempered_transitions_guided_walk(100, temp, pi, c_up, c_down)\n",
    "sns.kdeplot(x)"
   ]
  }
 ],
 "metadata": {
  "kernelspec": {
   "display_name": "base",
   "language": "python",
   "name": "python3"
  },
  "language_info": {
   "codemirror_mode": {
    "name": "ipython",
    "version": 3
   },
   "file_extension": ".py",
   "mimetype": "text/x-python",
   "name": "python",
   "nbconvert_exporter": "python",
   "pygments_lexer": "ipython3",
   "version": "3.12.4"
  }
 },
 "nbformat": 4,
 "nbformat_minor": 2
}
